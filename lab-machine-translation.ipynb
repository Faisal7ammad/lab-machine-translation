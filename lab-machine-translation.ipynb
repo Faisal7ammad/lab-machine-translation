{
  "cells": [
    {
      "cell_type": "markdown",
      "metadata": {
        "id": "U5fzTPb94J0B"
      },
      "source": [
        "# Lab | Text Generation from Shakespeare's Sonnet"
      ]
    },
    {
      "cell_type": "code",
      "execution_count": 5,
      "metadata": {
        "id": "BOwsuGQQY9OL"
      },
      "outputs": [],
      "source": [
        "from tensorflow.keras.preprocessing.sequence import pad_sequences\n",
        "from tensorflow.keras.layers import Embedding, LSTM, Dense, Dropout, Bidirectional\n",
        "from tensorflow.keras.preprocessing.text import Tokenizer\n",
        "from tensorflow.keras.models import Sequential\n",
        "from tensorflow.keras.optimizers import Adam\n",
        "### YOUR CODE HERE\n",
        "# Figure out how to import regularizers\n",
        "from tensorflow.keras.regularizers import l1_l2, l1, l2\n",
        "\n",
        "import tensorflow.keras.utils as ku\n",
        "import numpy as np"
      ]
    },
    {
      "cell_type": "code",
      "execution_count": 6,
      "metadata": {
        "id": "PRnDnCW-Z7qv"
      },
      "outputs": [],
      "source": [
        "tokenizer = Tokenizer()\n",
        "# !wget --no-check-certificate \\\n",
        "#     https://storage.googleapis.com/laurencemoroney-blog.appspot.com/sonnets.txt \\\n",
        "#     -O /tmp/sonnets.txt\n",
        "data = open('/content/sonnets.txt').read()\n",
        "\n",
        "corpus = data.lower().split(\"\\n\")\n",
        "\n",
        "\n",
        "tokenizer.fit_on_texts(corpus)\n",
        "total_words = len(tokenizer.word_index) + 1\n",
        "\n",
        "# create input sequences using list of tokens\n",
        "input_sequences = []\n",
        "for line in corpus:\n",
        "\ttoken_list = tokenizer.texts_to_sequences([line])[0]\n",
        "\tfor i in range(1, len(token_list)):\n",
        "\t\tn_gram_sequence = token_list[:i+1]\n",
        "\t\tinput_sequences.append(n_gram_sequence)\n",
        "\n",
        "\n",
        "# pad sequences\n",
        "max_sequence_len = max([len(x) for x in input_sequences])\n",
        "input_sequences = np.array(pad_sequences(input_sequences, maxlen=max_sequence_len, padding='pre'))\n",
        "\n",
        "# create predictors and label\n",
        "predictors, label = input_sequences[:,:-1],input_sequences[:,-1]\n",
        "\n",
        "label = ku.to_categorical(label, num_classes=total_words)"
      ]
    },
    {
      "cell_type": "code",
      "execution_count": 7,
      "metadata": {
        "id": "w9vH8Y59ajYL",
        "colab": {
          "base_uri": "https://localhost:8080/"
        },
        "outputId": "693dd4de-8f40-4ba5-ad3d-f9c3939083ef"
      },
      "outputs": [
        {
          "output_type": "stream",
          "name": "stdout",
          "text": [
            "Model: \"sequential_1\"\n",
            "_________________________________________________________________\n",
            " Layer (type)                Output Shape              Param #   \n",
            "=================================================================\n",
            " embedding_1 (Embedding)     (None, 10, 100)           337500    \n",
            "                                                                 \n",
            " lstm_2 (LSTM)               (None, 10, 128)           117248    \n",
            "                                                                 \n",
            " dropout_1 (Dropout)         (None, 10, 128)           0         \n",
            "                                                                 \n",
            " lstm_3 (LSTM)               (None, 128)               131584    \n",
            "                                                                 \n",
            " dense_2 (Dense)             (None, 128)               16512     \n",
            "                                                                 \n",
            " dense_3 (Dense)             (None, 3375)              435375    \n",
            "                                                                 \n",
            "=================================================================\n",
            "Total params: 1038219 (3.96 MB)\n",
            "Trainable params: 1038219 (3.96 MB)\n",
            "Non-trainable params: 0 (0.00 Byte)\n",
            "_________________________________________________________________\n",
            "None\n"
          ]
        }
      ],
      "source": [
        "model = Sequential()\n",
        "model.add(Embedding(total_words, 100, input_length = max_sequence_len-1))\n",
        "model.add(LSTM(128, return_sequences=True))\n",
        "model.add(Dropout(0.1))\n",
        "model.add(LSTM(128))\n",
        "model.add(Dense(128, activation='relu', kernel_regularizer=l1_l2(l1=0.01, l2=0.01)))\n",
        "model.add(Dense(total_words, activation='Softmax'))\n",
        "# Pick an optimizer\n",
        "model.compile(loss='categorical_crossentropy', optimizer='adam', metrics=['accuracy'])\n",
        "print(model.summary())\n"
      ]
    },
    {
      "cell_type": "code",
      "execution_count": 8,
      "metadata": {
        "id": "AIg2f1HBxqof",
        "colab": {
          "base_uri": "https://localhost:8080/"
        },
        "outputId": "e688f13d-7e9d-4a95-90f5-b411c097ad65"
      },
      "outputs": [
        {
          "output_type": "stream",
          "name": "stdout",
          "text": [
            "Epoch 1/100\n",
            "484/484 [==============================] - 13s 20ms/step - loss: 8.5368 - accuracy: 0.0223\n",
            "Epoch 2/100\n",
            "484/484 [==============================] - 4s 9ms/step - loss: 6.6417 - accuracy: 0.0229\n",
            "Epoch 3/100\n",
            "484/484 [==============================] - 4s 8ms/step - loss: 6.5846 - accuracy: 0.0221\n",
            "Epoch 4/100\n",
            "484/484 [==============================] - 4s 9ms/step - loss: 6.5813 - accuracy: 0.0214\n",
            "Epoch 5/100\n",
            "484/484 [==============================] - 4s 8ms/step - loss: 6.5830 - accuracy: 0.0225\n",
            "Epoch 6/100\n",
            "484/484 [==============================] - 4s 8ms/step - loss: 6.5803 - accuracy: 0.0232\n",
            "Epoch 7/100\n",
            "484/484 [==============================] - 4s 9ms/step - loss: 6.5786 - accuracy: 0.0214\n",
            "Epoch 8/100\n",
            "484/484 [==============================] - 4s 8ms/step - loss: 6.5779 - accuracy: 0.0212\n",
            "Epoch 9/100\n",
            "484/484 [==============================] - 4s 7ms/step - loss: 6.5781 - accuracy: 0.0223\n",
            "Epoch 10/100\n",
            "484/484 [==============================] - 4s 9ms/step - loss: 6.5778 - accuracy: 0.0218\n",
            "Epoch 11/100\n",
            "484/484 [==============================] - 4s 9ms/step - loss: 6.5755 - accuracy: 0.0209\n",
            "Epoch 12/100\n",
            "484/484 [==============================] - 4s 7ms/step - loss: 6.5737 - accuracy: 0.0209\n",
            "Epoch 13/100\n",
            "484/484 [==============================] - 4s 8ms/step - loss: 6.5732 - accuracy: 0.0229\n",
            "Epoch 14/100\n",
            "484/484 [==============================] - 5s 10ms/step - loss: 6.5754 - accuracy: 0.0220\n",
            "Epoch 15/100\n",
            "484/484 [==============================] - 4s 8ms/step - loss: 6.5735 - accuracy: 0.0227\n",
            "Epoch 16/100\n",
            "484/484 [==============================] - 4s 8ms/step - loss: 6.5720 - accuracy: 0.0219\n",
            "Epoch 17/100\n",
            "484/484 [==============================] - 5s 9ms/step - loss: 6.5712 - accuracy: 0.0225\n",
            "Epoch 18/100\n",
            "484/484 [==============================] - 4s 8ms/step - loss: 6.5712 - accuracy: 0.0225\n",
            "Epoch 19/100\n",
            "484/484 [==============================] - 4s 7ms/step - loss: 6.5676 - accuracy: 0.0224\n",
            "Epoch 20/100\n",
            "484/484 [==============================] - 5s 10ms/step - loss: 6.5671 - accuracy: 0.0218\n",
            "Epoch 21/100\n",
            "484/484 [==============================] - 4s 8ms/step - loss: 6.5667 - accuracy: 0.0218\n",
            "Epoch 22/100\n",
            "484/484 [==============================] - 4s 7ms/step - loss: 6.5673 - accuracy: 0.0226\n",
            "Epoch 23/100\n",
            "484/484 [==============================] - 5s 10ms/step - loss: 6.5675 - accuracy: 0.0229\n",
            "Epoch 24/100\n",
            "484/484 [==============================] - 4s 8ms/step - loss: 6.5651 - accuracy: 0.0220\n",
            "Epoch 25/100\n",
            "484/484 [==============================] - 4s 7ms/step - loss: 6.5636 - accuracy: 0.0229\n",
            "Epoch 26/100\n",
            "484/484 [==============================] - 4s 9ms/step - loss: 6.5636 - accuracy: 0.0212\n",
            "Epoch 27/100\n",
            "484/484 [==============================] - 4s 8ms/step - loss: 6.5629 - accuracy: 0.0220\n",
            "Epoch 28/100\n",
            "484/484 [==============================] - 5s 10ms/step - loss: 6.5633 - accuracy: 0.0232\n",
            "Epoch 29/100\n",
            "484/484 [==============================] - 7s 15ms/step - loss: 6.5631 - accuracy: 0.0229\n",
            "Epoch 30/100\n",
            "484/484 [==============================] - 4s 8ms/step - loss: 6.5642 - accuracy: 0.0220\n",
            "Epoch 31/100\n",
            "484/484 [==============================] - 4s 8ms/step - loss: 6.5667 - accuracy: 0.0225\n",
            "Epoch 32/100\n",
            "484/484 [==============================] - 4s 9ms/step - loss: 6.5509 - accuracy: 0.0219\n",
            "Epoch 33/100\n",
            "484/484 [==============================] - 4s 8ms/step - loss: 6.5255 - accuracy: 0.0220\n",
            "Epoch 34/100\n",
            "484/484 [==============================] - 4s 8ms/step - loss: 6.5028 - accuracy: 0.0225\n",
            "Epoch 35/100\n",
            "484/484 [==============================] - 4s 9ms/step - loss: 6.4828 - accuracy: 0.0222\n",
            "Epoch 36/100\n",
            "484/484 [==============================] - 4s 8ms/step - loss: 6.4663 - accuracy: 0.0242\n",
            "Epoch 37/100\n",
            "484/484 [==============================] - 4s 8ms/step - loss: 6.4557 - accuracy: 0.0279\n",
            "Epoch 38/100\n",
            "484/484 [==============================] - 4s 9ms/step - loss: 6.4311 - accuracy: 0.0267\n",
            "Epoch 39/100\n",
            "484/484 [==============================] - 4s 8ms/step - loss: 6.4086 - accuracy: 0.0282\n",
            "Epoch 40/100\n",
            "484/484 [==============================] - 4s 8ms/step - loss: 6.3958 - accuracy: 0.0273\n",
            "Epoch 41/100\n",
            "484/484 [==============================] - 4s 8ms/step - loss: 6.3701 - accuracy: 0.0281\n",
            "Epoch 42/100\n",
            "484/484 [==============================] - 4s 9ms/step - loss: 6.3504 - accuracy: 0.0284\n",
            "Epoch 43/100\n",
            "484/484 [==============================] - 4s 8ms/step - loss: 6.3300 - accuracy: 0.0283\n",
            "Epoch 44/100\n",
            "484/484 [==============================] - 4s 8ms/step - loss: 6.3143 - accuracy: 0.0289\n",
            "Epoch 45/100\n",
            "484/484 [==============================] - 4s 9ms/step - loss: 6.2940 - accuracy: 0.0302\n",
            "Epoch 46/100\n",
            "484/484 [==============================] - 4s 8ms/step - loss: 6.2748 - accuracy: 0.0298\n",
            "Epoch 47/100\n",
            "484/484 [==============================] - 4s 8ms/step - loss: 6.2566 - accuracy: 0.0304\n",
            "Epoch 48/100\n",
            "484/484 [==============================] - 5s 9ms/step - loss: 6.2487 - accuracy: 0.0311\n",
            "Epoch 49/100\n",
            "484/484 [==============================] - 4s 8ms/step - loss: 6.2222 - accuracy: 0.0331\n",
            "Epoch 50/100\n",
            "484/484 [==============================] - 4s 8ms/step - loss: 6.2063 - accuracy: 0.0318\n",
            "Epoch 51/100\n",
            "484/484 [==============================] - 5s 9ms/step - loss: 6.1904 - accuracy: 0.0324\n",
            "Epoch 52/100\n",
            "484/484 [==============================] - 4s 8ms/step - loss: 6.1750 - accuracy: 0.0338\n",
            "Epoch 53/100\n",
            "484/484 [==============================] - 4s 8ms/step - loss: 6.1563 - accuracy: 0.0344\n",
            "Epoch 54/100\n",
            "484/484 [==============================] - 5s 10ms/step - loss: 6.1393 - accuracy: 0.0340\n",
            "Epoch 55/100\n",
            "484/484 [==============================] - 4s 9ms/step - loss: 6.1229 - accuracy: 0.0351\n",
            "Epoch 56/100\n",
            "484/484 [==============================] - 4s 8ms/step - loss: 6.1120 - accuracy: 0.0361\n",
            "Epoch 57/100\n",
            "484/484 [==============================] - 4s 9ms/step - loss: 6.0954 - accuracy: 0.0344\n",
            "Epoch 58/100\n",
            "484/484 [==============================] - 4s 8ms/step - loss: 6.0789 - accuracy: 0.0358\n",
            "Epoch 59/100\n",
            "484/484 [==============================] - 4s 8ms/step - loss: 6.0669 - accuracy: 0.0358\n",
            "Epoch 60/100\n",
            "484/484 [==============================] - 4s 8ms/step - loss: 6.0516 - accuracy: 0.0365\n",
            "Epoch 61/100\n",
            "484/484 [==============================] - 5s 10ms/step - loss: 6.0379 - accuracy: 0.0407\n",
            "Epoch 62/100\n",
            "484/484 [==============================] - 4s 8ms/step - loss: 6.0272 - accuracy: 0.0386\n",
            "Epoch 63/100\n",
            "484/484 [==============================] - 4s 8ms/step - loss: 6.0081 - accuracy: 0.0423\n",
            "Epoch 64/100\n",
            "484/484 [==============================] - 5s 10ms/step - loss: 5.9983 - accuracy: 0.0415\n",
            "Epoch 65/100\n",
            "484/484 [==============================] - 4s 8ms/step - loss: 5.9807 - accuracy: 0.0451\n",
            "Epoch 66/100\n",
            "484/484 [==============================] - 4s 8ms/step - loss: 5.9626 - accuracy: 0.0456\n",
            "Epoch 67/100\n",
            "484/484 [==============================] - 5s 9ms/step - loss: 5.9428 - accuracy: 0.0459\n",
            "Epoch 68/100\n",
            "484/484 [==============================] - 4s 8ms/step - loss: 5.9190 - accuracy: 0.0480\n",
            "Epoch 69/100\n",
            "484/484 [==============================] - 4s 8ms/step - loss: 5.8992 - accuracy: 0.0492\n",
            "Epoch 70/100\n",
            "484/484 [==============================] - 4s 9ms/step - loss: 5.8811 - accuracy: 0.0508\n",
            "Epoch 71/100\n",
            "484/484 [==============================] - 4s 8ms/step - loss: 5.8540 - accuracy: 0.0519\n",
            "Epoch 72/100\n",
            "484/484 [==============================] - 4s 8ms/step - loss: 5.8384 - accuracy: 0.0519\n",
            "Epoch 73/100\n",
            "484/484 [==============================] - 4s 9ms/step - loss: 5.8116 - accuracy: 0.0530\n",
            "Epoch 74/100\n",
            "484/484 [==============================] - 4s 8ms/step - loss: 5.7893 - accuracy: 0.0521\n",
            "Epoch 75/100\n",
            "484/484 [==============================] - 4s 8ms/step - loss: 5.7692 - accuracy: 0.0555\n",
            "Epoch 76/100\n",
            "484/484 [==============================] - 4s 9ms/step - loss: 5.7453 - accuracy: 0.0572\n",
            "Epoch 77/100\n",
            "484/484 [==============================] - 4s 8ms/step - loss: 5.7241 - accuracy: 0.0579\n",
            "Epoch 78/100\n",
            "484/484 [==============================] - 4s 8ms/step - loss: 5.7051 - accuracy: 0.0600\n",
            "Epoch 79/100\n",
            "484/484 [==============================] - 4s 8ms/step - loss: 5.6914 - accuracy: 0.0604\n",
            "Epoch 80/100\n",
            "484/484 [==============================] - 4s 9ms/step - loss: 5.6678 - accuracy: 0.0608\n",
            "Epoch 81/100\n",
            "484/484 [==============================] - 4s 8ms/step - loss: 5.6506 - accuracy: 0.0625\n",
            "Epoch 82/100\n",
            "484/484 [==============================] - 4s 8ms/step - loss: 5.6274 - accuracy: 0.0640\n",
            "Epoch 83/100\n",
            "484/484 [==============================] - 4s 9ms/step - loss: 5.6111 - accuracy: 0.0657\n",
            "Epoch 84/100\n",
            "484/484 [==============================] - 4s 7ms/step - loss: 5.5842 - accuracy: 0.0656\n",
            "Epoch 85/100\n",
            "484/484 [==============================] - 4s 8ms/step - loss: 5.5684 - accuracy: 0.0681\n",
            "Epoch 86/100\n",
            "484/484 [==============================] - 4s 9ms/step - loss: 5.5418 - accuracy: 0.0691\n",
            "Epoch 87/100\n",
            "484/484 [==============================] - 4s 8ms/step - loss: 5.5247 - accuracy: 0.0692\n",
            "Epoch 88/100\n",
            "484/484 [==============================] - 4s 7ms/step - loss: 5.4991 - accuracy: 0.0720\n",
            "Epoch 89/100\n",
            "484/484 [==============================] - 5s 9ms/step - loss: 5.4816 - accuracy: 0.0742\n",
            "Epoch 90/100\n",
            "484/484 [==============================] - 4s 8ms/step - loss: 5.4569 - accuracy: 0.0755\n",
            "Epoch 91/100\n",
            "484/484 [==============================] - 4s 8ms/step - loss: 5.4399 - accuracy: 0.0755\n",
            "Epoch 92/100\n",
            "484/484 [==============================] - 5s 9ms/step - loss: 5.4154 - accuracy: 0.0789\n",
            "Epoch 93/100\n",
            "484/484 [==============================] - 4s 8ms/step - loss: 5.4038 - accuracy: 0.0787\n",
            "Epoch 94/100\n",
            "484/484 [==============================] - 4s 7ms/step - loss: 5.3735 - accuracy: 0.0811\n",
            "Epoch 95/100\n",
            "484/484 [==============================] - 4s 8ms/step - loss: 5.3624 - accuracy: 0.0815\n",
            "Epoch 96/100\n",
            "484/484 [==============================] - 4s 8ms/step - loss: 5.3394 - accuracy: 0.0827\n",
            "Epoch 97/100\n",
            "484/484 [==============================] - 4s 8ms/step - loss: 5.3209 - accuracy: 0.0831\n",
            "Epoch 98/100\n",
            "484/484 [==============================] - 4s 8ms/step - loss: 5.2998 - accuracy: 0.0860\n",
            "Epoch 99/100\n",
            "484/484 [==============================] - 4s 9ms/step - loss: 5.2750 - accuracy: 0.0865\n",
            "Epoch 100/100\n",
            "484/484 [==============================] - 4s 7ms/step - loss: 5.2531 - accuracy: 0.0902\n"
          ]
        }
      ],
      "source": [
        " history = model.fit(predictors, label, epochs=100, verbose=1)"
      ]
    },
    {
      "cell_type": "code",
      "execution_count": 11,
      "metadata": {
        "id": "1fXTEO3GJ282",
        "colab": {
          "base_uri": "https://localhost:8080/",
          "height": 887
        },
        "outputId": "0a0ced24-452c-4d59-a1b5-edc557066e17"
      },
      "outputs": [
        {
          "output_type": "display_data",
          "data": {
            "text/plain": [
              "<Figure size 640x480 with 1 Axes>"
            ],
            "image/png": "[encoded data removed]"
          },
          "metadata": {}
        },
        {
          "output_type": "display_data",
          "data": {
            "text/plain": [
              "<Figure size 640x480 with 1 Axes>"
            ],
            "image/png": "[encoded data removed]"
          },
          "metadata": {}
        }
      ],
      "source": [
        "import matplotlib.pyplot as plt\n",
        "acc = history.history['accuracy']\n",
        "loss = history.history['loss']\n",
        "\n",
        "epochs = range(len(acc))\n",
        "\n",
        "plt.plot(epochs, acc, 'b', label='Training accuracy')\n",
        "plt.title('Training accuracy')\n",
        "\n",
        "plt.figure()\n",
        "\n",
        "plt.plot(epochs, loss, 'b', label='Training Loss')\n",
        "plt.title('Training loss')\n",
        "plt.legend()\n",
        "\n",
        "plt.show()"
      ]
    },
    {
      "cell_type": "code",
      "execution_count": 12,
      "metadata": {
        "id": "6Vc6PHgxa6Hm",
        "colab": {
          "base_uri": "https://localhost:8080/"
        },
        "outputId": "4637ef79-4079-4906-eace-2476d4283910"
      },
      "outputs": [
        {
          "output_type": "stream",
          "name": "stdout",
          "text": [
            "where is this sentence going, it might i see not eyes i ' ' see than not be love see love my love is i all than my love ' see my love be love all i be than the love in be than that see love in my love be love i see my love be love i see my love be love i see my love be love i see my love be love i see my love be love i see my love be love i see my love be love i see my love be love i see my love be love i\n"
          ]
        }
      ],
      "source": [
        "seed_text = \"where is this sentence going, it might\" #\"Help me Obi Wan Kenobi, you're my only hope\"\n",
        "next_words = 100\n",
        "\n",
        "for _ in range(next_words):\n",
        "\ttoken_list = tokenizer.texts_to_sequences([seed_text])[0]\n",
        "\ttoken_list = pad_sequences([token_list], maxlen=max_sequence_len-1, padding='pre')\n",
        "\tpredicted_probs = model.predict(token_list, verbose=0)\n",
        "\tpredicted = np.argmax(predicted_probs, axis=-1)[0]\n",
        "\toutput_word = \"\"\n",
        "\tfor word, index in tokenizer.word_index.items():\n",
        "\t\tif index == predicted:\n",
        "\t\t\toutput_word = word\n",
        "\t\t\tbreak\n",
        "\tseed_text += \" \" + output_word\n",
        "print(seed_text)"
      ]
    },
    {
      "cell_type": "code",
      "source": [],
      "metadata": {
        "id": "KYfTR1hYZMke"
      },
      "execution_count": 10,
      "outputs": []
    }
  ],
  "metadata": {
    "accelerator": "GPU",
    "colab": {
      "provenance": []
    },
    "kernelspec": {
      "display_name": "Python 3 (ipykernel)",
      "language": "python",
      "name": "python3"
    },
    "language_info": {
      "codemirror_mode": {
        "name": "ipython",
        "version": 3
      },
      "file_extension": ".py",
      "mimetype": "text/x-python",
      "name": "python",
      "nbconvert_exporter": "python",
      "pygments_lexer": "ipython3",
      "version": "3.11.8"
    }
  },
  "nbformat": 4,
  "nbformat_minor": 0
}